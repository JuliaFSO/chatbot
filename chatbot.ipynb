{
  "nbformat": 4,
  "nbformat_minor": 0,
  "metadata": {
    "colab": {
      "provenance": [],
      "toc_visible": true,
      "authorship_tag": "ABX9TyNmyVQHXLIyMSB2rX+wI09H",
      "include_colab_link": true
    },
    "kernelspec": {
      "name": "python3",
      "display_name": "Python 3"
    },
    "language_info": {
      "name": "python"
    }
  },
  "cells": [
    {
      "cell_type": "markdown",
      "metadata": {
        "id": "view-in-github",
        "colab_type": "text"
      },
      "source": [
        "<a href=\"https://colab.research.google.com/github/JuliaFSO/chatbot/blob/main/chatbot.ipynb\" target=\"_parent\"><img src=\"https://colab.research.google.com/assets/colab-badge.svg\" alt=\"Open In Colab\"/></a>"
      ]
    },
    {
      "cell_type": "code",
      "execution_count": 1,
      "metadata": {
        "id": "UoHtDeUQTpJs"
      },
      "outputs": [],
      "source": [
        "!pip install -q -U google-generativeai"
      ]
    },
    {
      "cell_type": "code",
      "source": [
        "import google.generativeai as genai\n",
        "from google.colab import userdata\n",
        "api_key = userdata.get('SECRET_KEY')\n",
        "\n",
        "genai.configure(api_key=api_key)"
      ],
      "metadata": {
        "id": "UwIhmc_QZjzN"
      },
      "execution_count": 17,
      "outputs": []
    },
    {
      "cell_type": "code",
      "source": [
        "#Listing the models available\n",
        "for m in genai.list_models():\n",
        "  if 'generateContent' in m.supported_generation_methods:\n",
        "    print(m.name)"
      ],
      "metadata": {
        "colab": {
          "base_uri": "https://localhost:8080/",
          "height": 139
        },
        "id": "HNCg00RjZqIx",
        "outputId": "c8271a97-46e5-46f7-8914-ca2bdcfa5fac"
      },
      "execution_count": 4,
      "outputs": [
        {
          "output_type": "stream",
          "name": "stdout",
          "text": [
            "models/gemini-1.0-pro\n",
            "models/gemini-1.0-pro-001\n",
            "models/gemini-1.0-pro-latest\n",
            "models/gemini-1.0-pro-vision-latest\n",
            "models/gemini-1.5-pro-latest\n",
            "models/gemini-pro\n",
            "models/gemini-pro-vision\n"
          ]
        }
      ]
    },
    {
      "cell_type": "code",
      "source": [
        "#Config of creativity allowed in the responses\n",
        "generation_config = {\n",
        "    'candidate_count': 1,\n",
        "    'temperature': 0.5\n",
        "}"
      ],
      "metadata": {
        "id": "CdRrfNiWaxGJ"
      },
      "execution_count": 5,
      "outputs": []
    },
    {
      "cell_type": "code",
      "source": [
        "#Adjust harmful response settings\n",
        "safety_settings = {\n",
        "    'HARASSMENT': 'BLOCK_NONE',\n",
        "    'HATE': 'BLOCK_NONE',\n",
        "    'SEXUAL': 'BLOCK_NONE',\n",
        "    'DANGEROUS': 'BLOCK_NONE'\n",
        "}"
      ],
      "metadata": {
        "id": "QKr3Gp90cdZE"
      },
      "execution_count": 7,
      "outputs": []
    },
    {
      "cell_type": "code",
      "source": [
        "#Model init\n",
        "model = genai.GenerativeModel(model_name='gemini-1.0-pro-latest',\n",
        "                              generation_config=generation_config,\n",
        "                              safety_settings=safety_settings)"
      ],
      "metadata": {
        "id": "HU6M6UsvdLpr"
      },
      "execution_count": 8,
      "outputs": []
    },
    {
      "cell_type": "code",
      "source": [
        "response = model.generate_content('What is the meaning of life?')\n",
        "print(response.text)"
      ],
      "metadata": {
        "colab": {
          "base_uri": "https://localhost:8080/",
          "height": 332
        },
        "id": "1eS4uHrbeyG9",
        "outputId": "e5b35c76-15f9-487e-a638-5f78e46fd042"
      },
      "execution_count": 20,
      "outputs": [
        {
          "output_type": "stream",
          "name": "stdout",
          "text": [
            "The meaning of life is a deeply personal and subjective question that has been pondered by philosophers, theologians, and individuals throughout history. There is no one definitive answer that applies to everyone, as the meaning of life can vary widely depending on one's beliefs, values, and experiences.\n",
            "\n",
            "Some common themes that emerge in discussions about the meaning of life include:\n",
            "\n",
            "* **Purpose and Fulfillment:** Many people find meaning in their lives by pursuing goals, achieving accomplishments, and making a difference in the world. This can involve pursuing a career, raising a family, volunteering, or engaging in creative activities.\n",
            "\n",
            "* **Relationships and Connections:** Relationships with loved ones, friends, and community can provide a sense of purpose and belonging. Building and maintaining strong relationships can bring joy, support, and a sense of fulfillment.\n",
            "\n",
            "* **Personal Growth and Development:** Some people find meaning in their lives by embarking on a journey of personal growth and self-improvement. This can involve learning new skills, exploring different perspectives, and striving to become a better person.\n",
            "\n",
            "* **Contribution to Society:** Making a positive contribution to society, whether through volunteer work, activism, or simply being a kind and compassionate person, can give people a sense of purpose and fulfillment.\n",
            "\n",
            "* **Spiritual or Religious Beliefs:** For many people, their religious or spiritual beliefs provide a framework for understanding the meaning of life. They may find meaning in worship, prayer, meditation, or following religious teachings.\n",
            "\n",
            "* **Experiences and Moments:** Some people find meaning in the present moment, appreciating the beauty and wonder of life's experiences. They may seek out new adventures, travel, or simply enjoy the simple pleasures of life.\n",
            "\n",
            "Ultimately, the meaning of life is something that each individual must discover for themselves. There is no right or wrong answer, and the meaning of life can change over time as one's experiences and perspectives evolve.\n"
          ]
        }
      ]
    },
    {
      "cell_type": "code",
      "source": [
        "chat = model.start_chat(history=[])"
      ],
      "metadata": {
        "id": "Cn2-AQe-fTcz"
      },
      "execution_count": 10,
      "outputs": []
    },
    {
      "cell_type": "code",
      "source": [
        "prompt = input('Type something: ')\n",
        "while prompt != 'end':\n",
        "  response = chat.send_message(prompt)\n",
        "  print('Response: ', response.text, '\\n')\n",
        "  prompt = input('Type something: ')"
      ],
      "metadata": {
        "colab": {
          "base_uri": "https://localhost:8080/",
          "height": 243
        },
        "id": "cZxrBUlmfy6Y",
        "outputId": "2f58c1a7-22e8-4a4c-cdef-d72daa1f7f92"
      },
      "execution_count": 14,
      "outputs": [
        {
          "name": "stdout",
          "output_type": "stream",
          "text": [
            "Type something: Tell me Canada's capital\n",
            "Response:  Ottawa \n",
            "\n",
            "Type something: A symbol of this country\n",
            "Response:  Maple leaf \n",
            "\n",
            "Type something: My cousin was born there. Tell me his nationality.\n",
            "Response:  Canadian \n",
            "\n",
            "Type something: tell me its population \n",
            "Response:  38.01 million (2021) \n",
            "\n",
            "Type something: end\n"
          ]
        }
      ]
    },
    {
      "cell_type": "code",
      "source": [
        "chat.history"
      ],
      "metadata": {
        "colab": {
          "base_uri": "https://localhost:8080/"
        },
        "id": "EEB91ZIEi6Dp",
        "outputId": "d54ed068-1aff-4248-b70b-cd6628ff2319"
      },
      "execution_count": 15,
      "outputs": [
        {
          "output_type": "execute_result",
          "data": {
            "text/plain": [
              "[parts {\n",
              "   text: \"Tell me Canada\\'s capital\"\n",
              " }\n",
              " role: \"user\",\n",
              " parts {\n",
              "   text: \"Ottawa\"\n",
              " }\n",
              " role: \"model\",\n",
              " parts {\n",
              "   text: \"Tell me a symbol for this country\"\n",
              " }\n",
              " role: \"user\",\n",
              " parts {\n",
              "   text: \"Maple leaf\"\n",
              " }\n",
              " role: \"model\",\n",
              " parts {\n",
              "   text: \"Tell me Canada\\'s capital\"\n",
              " }\n",
              " role: \"user\",\n",
              " parts {\n",
              "   text: \"Ottawa\"\n",
              " }\n",
              " role: \"model\",\n",
              " parts {\n",
              "   text: \"A symbol of this country\"\n",
              " }\n",
              " role: \"user\",\n",
              " parts {\n",
              "   text: \"Maple leaf\"\n",
              " }\n",
              " role: \"model\",\n",
              " parts {\n",
              "   text: \"My cousin was born there. Tell me his nationality.\"\n",
              " }\n",
              " role: \"user\",\n",
              " parts {\n",
              "   text: \"Canadian\"\n",
              " }\n",
              " role: \"model\",\n",
              " parts {\n",
              "   text: \"tell me its population \"\n",
              " }\n",
              " role: \"user\",\n",
              " parts {\n",
              "   text: \"38.01 million (2021)\"\n",
              " }\n",
              " role: \"model\"]"
            ]
          },
          "metadata": {},
          "execution_count": 15
        }
      ]
    },
    {
      "cell_type": "code",
      "source": [
        "import textwrap\n",
        "from IPython.display import display\n",
        "from IPython.display import Markdown\n",
        "\n",
        "def to_markdown(text):\n",
        "  text = text.replace('•', '  *')\n",
        "  return Markdown(textwrap.indent(text, '> ', predicate=lambda _: True))\n",
        "\n",
        "for message in chat.history:\n",
        "  display(to_markdown(f'**{message.role}**: {message.parts[0].text}'))\n",
        "  print('-------------------------------------------')"
      ],
      "metadata": {
        "colab": {
          "base_uri": "https://localhost:8080/",
          "height": 770
        },
        "id": "lFdVrTynjIe9",
        "outputId": "2d2ad331-21a1-4aff-b080-d1b089a7b47b"
      },
      "execution_count": 21,
      "outputs": [
        {
          "output_type": "display_data",
          "data": {
            "text/plain": [
              "<IPython.core.display.Markdown object>"
            ],
            "text/markdown": "> **user**: Tell me Canada's capital"
          },
          "metadata": {}
        },
        {
          "output_type": "stream",
          "name": "stdout",
          "text": [
            "-------------------------------------------\n"
          ]
        },
        {
          "output_type": "display_data",
          "data": {
            "text/plain": [
              "<IPython.core.display.Markdown object>"
            ],
            "text/markdown": "> **model**: Ottawa"
          },
          "metadata": {}
        },
        {
          "output_type": "stream",
          "name": "stdout",
          "text": [
            "-------------------------------------------\n"
          ]
        },
        {
          "output_type": "display_data",
          "data": {
            "text/plain": [
              "<IPython.core.display.Markdown object>"
            ],
            "text/markdown": "> **user**: Tell me a symbol for this country"
          },
          "metadata": {}
        },
        {
          "output_type": "stream",
          "name": "stdout",
          "text": [
            "-------------------------------------------\n"
          ]
        },
        {
          "output_type": "display_data",
          "data": {
            "text/plain": [
              "<IPython.core.display.Markdown object>"
            ],
            "text/markdown": "> **model**: Maple leaf"
          },
          "metadata": {}
        },
        {
          "output_type": "stream",
          "name": "stdout",
          "text": [
            "-------------------------------------------\n"
          ]
        },
        {
          "output_type": "display_data",
          "data": {
            "text/plain": [
              "<IPython.core.display.Markdown object>"
            ],
            "text/markdown": "> **user**: Tell me Canada's capital"
          },
          "metadata": {}
        },
        {
          "output_type": "stream",
          "name": "stdout",
          "text": [
            "-------------------------------------------\n"
          ]
        },
        {
          "output_type": "display_data",
          "data": {
            "text/plain": [
              "<IPython.core.display.Markdown object>"
            ],
            "text/markdown": "> **model**: Ottawa"
          },
          "metadata": {}
        },
        {
          "output_type": "stream",
          "name": "stdout",
          "text": [
            "-------------------------------------------\n"
          ]
        },
        {
          "output_type": "display_data",
          "data": {
            "text/plain": [
              "<IPython.core.display.Markdown object>"
            ],
            "text/markdown": "> **user**: A symbol of this country"
          },
          "metadata": {}
        },
        {
          "output_type": "stream",
          "name": "stdout",
          "text": [
            "-------------------------------------------\n"
          ]
        },
        {
          "output_type": "display_data",
          "data": {
            "text/plain": [
              "<IPython.core.display.Markdown object>"
            ],
            "text/markdown": "> **model**: Maple leaf"
          },
          "metadata": {}
        },
        {
          "output_type": "stream",
          "name": "stdout",
          "text": [
            "-------------------------------------------\n"
          ]
        },
        {
          "output_type": "display_data",
          "data": {
            "text/plain": [
              "<IPython.core.display.Markdown object>"
            ],
            "text/markdown": "> **user**: My cousin was born there. Tell me his nationality."
          },
          "metadata": {}
        },
        {
          "output_type": "stream",
          "name": "stdout",
          "text": [
            "-------------------------------------------\n"
          ]
        },
        {
          "output_type": "display_data",
          "data": {
            "text/plain": [
              "<IPython.core.display.Markdown object>"
            ],
            "text/markdown": "> **model**: Canadian"
          },
          "metadata": {}
        },
        {
          "output_type": "stream",
          "name": "stdout",
          "text": [
            "-------------------------------------------\n"
          ]
        },
        {
          "output_type": "display_data",
          "data": {
            "text/plain": [
              "<IPython.core.display.Markdown object>"
            ],
            "text/markdown": "> **user**: tell me its population "
          },
          "metadata": {}
        },
        {
          "output_type": "stream",
          "name": "stdout",
          "text": [
            "-------------------------------------------\n"
          ]
        },
        {
          "output_type": "display_data",
          "data": {
            "text/plain": [
              "<IPython.core.display.Markdown object>"
            ],
            "text/markdown": "> **model**: 38.01 million (2021)"
          },
          "metadata": {}
        },
        {
          "output_type": "stream",
          "name": "stdout",
          "text": [
            "-------------------------------------------\n"
          ]
        }
      ]
    }
  ]
}